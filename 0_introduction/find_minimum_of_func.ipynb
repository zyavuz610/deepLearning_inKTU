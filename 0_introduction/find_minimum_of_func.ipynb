{
  "nbformat": 4,
  "nbformat_minor": 0,
  "metadata": {
    "colab": {
      "name": "find_minimum_of_func.ipynb",
      "provenance": [],
      "collapsed_sections": [],
      "include_colab_link": true
    },
    "kernelspec": {
      "name": "python3",
      "display_name": "Python 3"
    }
  },
  "cells": [
    {
      "cell_type": "markdown",
      "metadata": {
        "id": "view-in-github",
        "colab_type": "text"
      },
      "source": [
        "<a href=\"https://colab.research.google.com/github/zyavuz610/deepLearning_inKTU/blob/master/0_introduction/find_minimum_of_func.ipynb\" target=\"_parent\"><img src=\"https://colab.research.google.com/assets/colab-badge.svg\" alt=\"Open In Colab\"/></a>"
      ]
    },
    {
      "cell_type": "code",
      "metadata": {
        "id": "j7lQ1RER8ZKi",
        "colab_type": "code",
        "outputId": "83ce2e19-8fb9-4606-8729-9d65b908e57d",
        "colab": {
          "base_uri": "https://localhost:8080/",
          "height": 282
        }
      },
      "source": [
        "import numpy as np\n",
        "import sys\n",
        "import matplotlib.pyplot as plt\n",
        "\n",
        "def func(x):\n",
        "    return ((x-3)**2)+15\n",
        "\n",
        "Xleft,Xright = -30,30\n",
        "xmin = Xleft\n",
        "\n",
        "x=np.arange(Xleft,Xright,0.1)\n",
        "ymin = sys.float_info.max\n",
        "\n",
        "graph_x, graph_y = [],[]\n",
        "for xi in x:\n",
        "    y = func(xi)\n",
        "    graph_x.append(xi)\n",
        "    graph_y.append(y)\n",
        "    if y<ymin:\n",
        "        xmin,ymin = xi,y\n",
        "plt.plot(graph_x,graph_y,\"b-\",xmin,ymin,\"rx\")\n",
        "print(format(xmin,\".2f\"),format(ymin,\".2f\"))"
      ],
      "execution_count": 27,
      "outputs": [
        {
          "output_type": "stream",
          "text": [
            "3.00 15.00\n"
          ],
          "name": "stdout"
        },
        {
          "output_type": "display_data",
          "data": {
            "image/png": "[encoded data removed]",
            "text/plain": [
              "<Figure size 432x288 with 1 Axes>"
            ]
          },
          "metadata": {
            "tags": []
          }
        }
      ]
    }
  ]
}