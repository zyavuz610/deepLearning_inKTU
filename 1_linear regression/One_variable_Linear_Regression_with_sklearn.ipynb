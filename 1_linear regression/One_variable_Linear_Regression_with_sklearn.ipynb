{
  "nbformat": 4,
  "nbformat_minor": 0,
  "metadata": {
    "colab": {
      "name": "One-variable Linear Regression with sklearn.ipynb",
      "provenance": [],
      "include_colab_link": true
    },
    "kernelspec": {
      "name": "python3",
      "display_name": "Python 3"
    }
  },
  "cells": [
    {
      "cell_type": "markdown",
      "metadata": {
        "id": "view-in-github",
        "colab_type": "text"
      },
      "source": [
        "<a href=\"https://colab.research.google.com/github/zyavuz610/deepLearning_inKTU/blob/master/1_linear%20regression/One_variable_Linear_Regression_with_sklearn.ipynb\" target=\"_parent\"><img src=\"https://colab.research.google.com/assets/colab-badge.svg\" alt=\"Open In Colab\"/></a>"
      ]
    },
    {
      "cell_type": "markdown",
      "metadata": {
        "id": "TDvQ_ncta8gM",
        "colab_type": "text"
      },
      "source": [
        "#   linear resgression (1-variable) with gradient descent"
      ]
    },
    {
      "cell_type": "code",
      "metadata": {
        "id": "gmdr0KybbB0z",
        "colab_type": "code",
        "colab": {
          "base_uri": "https://localhost:8080/",
          "height": 350
        },
        "outputId": "e8686252-59be-4cb4-e828-93a1c25c3c83"
      },
      "source": [
        "import numpy as np\n",
        "import matplotlib.pyplot as plt\n",
        "from sklearn.linear_model import LinearRegression\n",
        "\n",
        "m,c     = 0,0               # y = mx + n\n",
        "L       = 0.01               # The learning Rate\n",
        "epochs  = 1000              # The number of iterations to perform gradient descent\n",
        "\n",
        "x0 = range(10)\n",
        "y0 = [10,13,12,15,17,17,19,19,21,23]\n",
        "\n",
        "x = np.array(x0,dtype=float)            # feature vektor\n",
        "y = np.array(y0,dtype=float)            # response vector\n",
        "\n",
        "plt.plot(x,y,\"ro\")\n",
        "\n",
        "\n",
        "reg = LinearRegression()    # model\n",
        "\n",
        "x = x.reshape((x.size,1))   # reshape, data must be in matrix (2D)\n",
        "y = y.reshape((y.size,1))\n",
        "\n",
        "reg.fit(x,y)                # learn the parameters\n",
        "\n",
        "y_pred = reg.predict(x)     # prediction\n",
        "\n",
        "print(\"Coefficients: \",reg.coef_)\n",
        "\n",
        "\n",
        "# regression score -> \"y_pred\" is ideal, so score must be 1.\n",
        "print(reg.score(x,y),reg.score(x,y_pred))\n",
        "plt.plot(x,y_pred,\"b-\")\n",
        "\n",
        "ind = 4\n",
        "print(x[ind],y[ind])\n",
        "print(x[ind],y_pred[ind])\n",
        "plt.plot(x[ind],y_pred[ind],\"g+\")\n"
      ],
      "execution_count": 22,
      "outputs": [
        {
          "output_type": "stream",
          "text": [
            "Coefficients:  [[1.33333333]]\n",
            "0.962379702537183 1.0\n",
            "[4.] [17.]\n",
            "[4.] [15.93333333]\n"
          ],
          "name": "stdout"
        },
        {
          "output_type": "execute_result",
          "data": {
            "text/plain": [
              "[<matplotlib.lines.Line2D at 0x7f017cc97780>]"
            ]
          },
          "metadata": {
            "tags": []
          },
          "execution_count": 22
        },
        {
          "output_type": "display_data",
          "data": {
            "image/png": "[encoded data removed]",
            "text/plain": [
              "<Figure size 432x288 with 1 Axes>"
            ]
          },
          "metadata": {
            "tags": []
          }
        }
      ]
    }
  ]
}